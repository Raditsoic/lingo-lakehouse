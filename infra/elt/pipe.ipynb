{
 "cells": [
  {
   "cell_type": "code",
   "execution_count": null,
   "metadata": {},
   "outputs": [],
   "source": [
    "from pyspark.sql import SparkSession\n",
    "from pyspark.sql.functions import col\n",
    "from pyspark.sql import functions as F\n",
    "\n",
    "spark = SparkSession.builder \\\n",
    "    .appName(\"MinIO-Spark-ELT\") \\\n",
    "    .config(\"spark.jars.packages\", \"org.apache.hadoop:hadoop-aws:3.2.0\") \\\n",
    "    .config(\"spark.hadoop.fs.s3a.access.key\", \"minio\") \\\n",
    "    .config(\"spark.hadoop.fs.s3a.secret.key\", \"minio123\") \\\n",
    "    .config(\"spark.hadoop.fs.s3a.endpoint\", \"http://host.docker.internal:9000\") \\\n",
    "    .config(\"spark.hadoop.fs.s3a.path.style.access\", \"true\") \\\n",
    "    .config(\"spark.hadoop.fs.s3a.impl\", \"org.apache.hadoop.fs.s3a.S3AFileSystem\") \\\n",
    "    .config(\"spark.hadoop.fs.s3a.aws.credentials.provider\", \"org.apache.hadoop.fs.s3a.SimpleAWSCredentialsProvider\") \\\n",
    "    .getOrCreate()\n",
    "\n"
   ]
  },
  {
   "cell_type": "code",
   "execution_count": 8,
   "metadata": {},
   "outputs": [
    {
     "name": "stdout",
     "output_type": "stream",
     "text": [
      "+-------+----------+-----------------+-----------+--------------------+--------------------+-------+--------------+------------+---------------+------------+---------------+\n",
      "|user_id| timestamp|learning_language|ui_language|           lexeme_id|       lexeme_string|  delta|      p_recall|history_seen|history_correct|session_seen|session_correct|\n",
      "+-------+----------+-----------------+-----------+--------------------+--------------------+-------+--------------+------------+---------------+------------+---------------+\n",
      "| u:fowg|1362160674|               en|         es|ca886bc339ea78c58...|orange/orange<n><sg>|    841|           1.0|           4|              3|           2|              2|\n",
      "| u:duK3|1362160678|               en|         es|a94a938b71c9bd335...|which/which<det><...| 257458|0.666666666667|           5|              4|           3|              2|\n",
      "| u:duK3|1362160678|               en|         es|7dab41a78fec1de7e...|     hats/hat<n><pl>| 861434|           0.5|           3|              3|           2|              1|\n",
      "| u:duK3|1362160678|               en|         es|9ac50d1a5c3247453...|green/green<adj><...| 603942|           1.0|           3|              3|           1|              1|\n",
      "| u:duK3|1362160678|               en|         es|4adf5cd40d521b02a...|have/have<vblex><...| 256054|           1.0|          14|             12|           1|              1|\n",
      "| u:duK3|1362160678|               en|         es|764e3dc3b4ba72565...|     hello/hello<ij>|7605794|           1.0|           1|              1|           1|              1|\n",
      "| u:duK3|1362160678|               en|         es|64fb4435d0bd27297...|you/prpers<prn><o...| 604353|           0.0|           4|              3|           1|              0|\n",
      "| u:duK3|1362160678|               en|         es|1fc2f0656f2fe60d0...|   do/do<vbdo><pres>| 256054|           1.0|           7|              7|           2|              2|\n",
      "| u:duK3|1362160678|               en|         es|4f5b0cd71bfa77c08...|which/which<prn><...| 257458|           1.0|           5|              5|           1|              1|\n",
      "| u:duK3|1362160678|               en|         es|a617ed646a251e339...| are/be<vbser><pres>|8210981|0.666666666667|           4|              4|           3|              2|\n",
      "| u:duK3|1362160678|               en|         es|529445ad4ea7fd181...|  reply/reply<n><sg>| 257458|           1.0|           1|              1|           1|              1|\n",
      "| u:duK3|1362160678|               en|         es|da166f3d66b929683...|who/who<prn><itg>...| 258284|           1.0|           5|              5|           1|              1|\n",
      "| u:duK3|1362160678|               en|         es|8c8952fbf398f9964...|        red/red<adj>| 603942|           0.5|           4|              4|           2|              1|\n",
      "| u:duK3|1362160678|               en|         es|1c1d2e454e5e8b32f...|question/question...| 257458|           1.0|           2|              2|           1|              1|\n",
      "| u:duK3|1362160678|               en|         es|aaf58e27968fec878...| when/when<adv><itg>| 257458|           1.0|           2|              1|           1|              1|\n",
      "| u:duK3|1362160678|               en|         es|487ce8262508986af...|whose/whose<prn><...| 257458|           1.0|           4|              4|           1|              1|\n",
      "| u:duK3|1362160678|               en|         es|7dd6b30fc37ca7348...|    bear/bear<n><sg>|6396498|           1.0|           6|              6|           1|              1|\n",
      "| u:duK3|1362160678|               en|         es|a6f949fa049279ad5...|where/where<adv><...| 258284|           1.0|           4|              4|           2|              2|\n",
      "| u:duK3|1362160678|               en|         es|dfc953d62306359e4...|   shoes/shoe<n><pl>|1210464|           1.0|           2|              2|           1|              1|\n",
      "| u:duK3|1362160678|               en|         es|ef1f94c0e977e97bd...|chicken/chicken<n...|6396498|           1.0|           2|              2|           1|              1|\n",
      "+-------+----------+-----------------+-----------+--------------------+--------------------+-------+--------------+------------+---------------+------------+---------------+\n",
      "only showing top 20 rows\n",
      "\n"
     ]
    }
   ],
   "source": [
    "input_path = \"s3a://duolingo/raw/duolingo_batch_1362160679.parquet\"\n",
    "df = spark.read.parquet(input_path)\n",
    "\n",
    "df.show()"
   ]
  },
  {
   "cell_type": "code",
   "execution_count": null,
   "metadata": {},
   "outputs": [
    {
     "name": "stdout",
     "output_type": "stream",
     "text": [
      "+-------+-----------------+--------------------+--------------+------------------+------------------+--------------------+\n",
      "|user_id|learning_language|           lexeme_id|      p_recall|     accuracy_rate|  session_accuracy|          delta_days|\n",
      "+-------+-----------------+--------------------+--------------+------------------+------------------+--------------------+\n",
      "| u:fowg|               en|ca886bc339ea78c58...|           1.0|              0.75|               1.0|0.009733796296296296|\n",
      "| u:duK3|               en|a94a938b71c9bd335...|0.666666666667|               0.8|0.6666666666666666|   2.979837962962963|\n",
      "| u:duK3|               en|7dab41a78fec1de7e...|           0.5|               1.0|               0.5|   9.970300925925926|\n",
      "| u:duK3|               en|9ac50d1a5c3247453...|           1.0|               1.0|               1.0|   6.990069444444444|\n",
      "| u:duK3|               en|4adf5cd40d521b02a...|           1.0|0.8571428571428571|               1.0|   2.963587962962963|\n",
      "| u:duK3|               en|764e3dc3b4ba72565...|           1.0|               1.0|               1.0|   88.03002314814815|\n",
      "| u:duK3|               en|64fb4435d0bd27297...|           0.0|              0.75|               0.0|   6.994826388888889|\n",
      "| u:duK3|               en|1fc2f0656f2fe60d0...|           1.0|               1.0|               1.0|   2.963587962962963|\n",
      "| u:duK3|               en|4f5b0cd71bfa77c08...|           1.0|               1.0|               1.0|   2.979837962962963|\n",
      "| u:duK3|               en|a617ed646a251e339...|0.666666666667|               1.0|0.6666666666666666|   95.03450231481482|\n",
      "| u:duK3|               en|529445ad4ea7fd181...|           1.0|               1.0|               1.0|   2.979837962962963|\n",
      "| u:duK3|               en|da166f3d66b929683...|           1.0|               1.0|               1.0|   2.989398148148148|\n",
      "| u:duK3|               en|8c8952fbf398f9964...|           0.5|               1.0|               0.5|   6.990069444444444|\n",
      "| u:duK3|               en|1c1d2e454e5e8b32f...|           1.0|               1.0|               1.0|   2.979837962962963|\n",
      "| u:duK3|               en|aaf58e27968fec878...|           1.0|               0.5|               1.0|   2.979837962962963|\n",
      "| u:duK3|               en|487ce8262508986af...|           1.0|               1.0|               1.0|   2.979837962962963|\n",
      "| u:duK3|               en|7dd6b30fc37ca7348...|           1.0|               1.0|               1.0|   74.03354166666666|\n",
      "| u:duK3|               en|a6f949fa049279ad5...|           1.0|               1.0|               1.0|   2.989398148148148|\n",
      "| u:duK3|               en|dfc953d62306359e4...|           1.0|               1.0|               1.0|               14.01|\n",
      "| u:duK3|               en|ef1f94c0e977e97bd...|           1.0|               1.0|               1.0|   74.03354166666666|\n",
      "+-------+-----------------+--------------------+--------------+------------------+------------------+--------------------+\n",
      "only showing top 20 rows\n",
      "\n"
     ]
    }
   ],
   "source": [
    "# Machine Learning Data\n",
    "ml_df = df.drop('ui_language', 'lexeme_string', 'timestamp')\n",
    "ml_df =  ml_df.withColumn('accuracy_rate', col('history_correct') / col('history_seen')) \\\n",
    "           .withColumn('session_accuracy', col('session_correct') / col('session_seen')) \\\n",
    "           .withColumn('delta_days', col('delta') / (60 * 60 * 24))\n",
    "\n",
    "ml_df = ml_df.drop('delta', 'history_seen', 'history_correct', 'session_seen', 'session_correct')\n",
    "\n",
    "ml_df.show()"
   ]
  },
  {
   "cell_type": "code",
   "execution_count": null,
   "metadata": {},
   "outputs": [
    {
     "name": "stdout",
     "output_type": "stream",
     "text": [
      "+-------+----------+-----------------+--------------------+-------+--------------+------------+---------------+------------+---------------+\n",
      "|user_id| timestamp|learning_language|           lexeme_id|  delta|      p_recall|history_seen|history_correct|session_seen|session_correct|\n",
      "+-------+----------+-----------------+--------------------+-------+--------------+------------+---------------+------------+---------------+\n",
      "| u:fowg|1362160674|               en|ca886bc339ea78c58...|    841|           1.0|           4|              3|           2|              2|\n",
      "| u:duK3|1362160678|               en|a94a938b71c9bd335...| 257458|0.666666666667|           5|              4|           3|              2|\n",
      "| u:duK3|1362160678|               en|7dab41a78fec1de7e...| 861434|           0.5|           3|              3|           2|              1|\n",
      "| u:duK3|1362160678|               en|9ac50d1a5c3247453...| 603942|           1.0|           3|              3|           1|              1|\n",
      "| u:duK3|1362160678|               en|4adf5cd40d521b02a...| 256054|           1.0|          14|             12|           1|              1|\n",
      "| u:duK3|1362160678|               en|764e3dc3b4ba72565...|7605794|           1.0|           1|              1|           1|              1|\n",
      "| u:duK3|1362160678|               en|64fb4435d0bd27297...| 604353|           0.0|           4|              3|           1|              0|\n",
      "| u:duK3|1362160678|               en|1fc2f0656f2fe60d0...| 256054|           1.0|           7|              7|           2|              2|\n",
      "| u:duK3|1362160678|               en|4f5b0cd71bfa77c08...| 257458|           1.0|           5|              5|           1|              1|\n",
      "| u:duK3|1362160678|               en|a617ed646a251e339...|8210981|0.666666666667|           4|              4|           3|              2|\n",
      "| u:duK3|1362160678|               en|529445ad4ea7fd181...| 257458|           1.0|           1|              1|           1|              1|\n",
      "| u:duK3|1362160678|               en|da166f3d66b929683...| 258284|           1.0|           5|              5|           1|              1|\n",
      "| u:duK3|1362160678|               en|8c8952fbf398f9964...| 603942|           0.5|           4|              4|           2|              1|\n",
      "| u:duK3|1362160678|               en|1c1d2e454e5e8b32f...| 257458|           1.0|           2|              2|           1|              1|\n",
      "| u:duK3|1362160678|               en|aaf58e27968fec878...| 257458|           1.0|           2|              1|           1|              1|\n",
      "| u:duK3|1362160678|               en|487ce8262508986af...| 257458|           1.0|           4|              4|           1|              1|\n",
      "| u:duK3|1362160678|               en|7dd6b30fc37ca7348...|6396498|           1.0|           6|              6|           1|              1|\n",
      "| u:duK3|1362160678|               en|a6f949fa049279ad5...| 258284|           1.0|           4|              4|           2|              2|\n",
      "| u:duK3|1362160678|               en|dfc953d62306359e4...|1210464|           1.0|           2|              2|           1|              1|\n",
      "| u:duK3|1362160678|               en|ef1f94c0e977e97bd...|6396498|           1.0|           2|              2|           1|              1|\n",
      "+-------+----------+-----------------+--------------------+-------+--------------+------------+---------------+------------+---------------+\n",
      "only showing top 20 rows\n",
      "\n"
     ]
    }
   ],
   "source": [
    "# Application Database\n",
    "warehouse_df = df.drop('ui_language')\n",
    "warehouse_df.show()"
   ]
  },
  {
   "cell_type": "code",
   "execution_count": null,
   "metadata": {},
   "outputs": [
    {
     "name": "stdout",
     "output_type": "stream",
     "text": [
      "+--------------------+--------------+-------------------+----------+\n",
      "|       lexeme_string|    avg_recall|         error_rate|total_seen|\n",
      "+--------------------+--------------+-------------------+----------+\n",
      "|     hats/hat<n><pl>|           0.5|                0.5|         2|\n",
      "|c'/ce<prn><tn><nt...|           1.0|                0.0|         2|\n",
      "|avoir/avoir<vblex...|           1.0|                0.0|         4|\n",
      "|haus/haus<n><nt><...|           1.0|                0.0|         2|\n",
      "|keine/kein<det><i...|           1.0|                0.0|         3|\n",
      "|green/green<adj><...|           1.0|                0.0|         1|\n",
      "|lui/lui<prn><tn><...|           1.0|                0.0|         1|\n",
      "|panino/panino<n><...|           0.5|                0.5|         2|\n",
      "|arancia/arancia<n...|           1.0|                0.0|         1|\n",
      "|frau/frau<n><f><s...|           1.0|                0.0|         1|\n",
      "|chicken/chicken<n...|           1.0|                0.0|         1|\n",
      "|interview/intervi...|           1.0|                0.0|         1|\n",
      "|essen/essen<vblex...|           0.5|                0.5|         2|\n",
      "| fame/fame<n><f><sg>|           1.0|                0.0|         1|\n",
      "|une/un<det><ind><...|           1.0|                0.0|         1|\n",
      "|      ganz/ganz<adv>|           1.0|                0.0|         1|\n",
      "|mangi/mangiare<vb...|           1.0|                0.0|         1|\n",
      "|which/which<det><...|0.666666666667|0.33333333333333337|         3|\n",
      "|reads/read<vblex>...|         0.875|              0.125|         8|\n",
      "|what/what<det><it...|           1.0|                0.0|         1|\n",
      "+--------------------+--------------+-------------------+----------+\n",
      "only showing top 20 rows\n",
      "\n"
     ]
    }
   ],
   "source": [
    "# Metabase/Visualization Dataframe\n",
    "metabase_df = df.drop('ui_language', 'lexeme_id', 'timestamp', 'learning_language', 'delta', 'user_id')\n",
    "\n",
    "metabase_df = metabase_df.withColumn(\n",
    "    \"error_rate\", \n",
    "    1 - (F.col(\"session_correct\") / F.col(\"session_seen\"))\n",
    ")\n",
    "\n",
    "# Lexeme Summary\n",
    "metabase_df = metabase_df.groupBy(\"lexeme_string\").agg(\n",
    "    F.mean(\"p_recall\").alias(\"avg_recall\"),\n",
    "    F.mean(\"error_rate\").alias(\"error_rate\"),\n",
    "    F.sum(\"session_seen\").alias(\"total_seen\")\n",
    ")\n",
    "\n",
    "metabase_df.show()"
   ]
  },
  {
   "cell_type": "code",
   "execution_count": null,
   "metadata": {},
   "outputs": [],
   "source": [
    "ml_output_path = \"s3a://duolingo-ml/duolingo_transformed.parquet\"\n",
    "visual_output_path = \"s3a://duolingo-visual/duolingo_transformed.parquet\"\n",
    "warehouse_output_path = \"s3a://duolingo-query/duolingo_transformed.parquet\"\n",
    "\n",
    "ml_df.write.mode(\"overwrite\").parquet(ml_output_path)\n",
    "metabase_df.write.mode(\"overwrite\").parquet(visual_output_path)\n",
    "warehouse_df.write.mode(\"overwrite\").parquet(warehouse_output_path)"
   ]
  }
 ],
 "metadata": {
  "kernelspec": {
   "display_name": "Python 3",
   "language": "python",
   "name": "python3"
  },
  "language_info": {
   "codemirror_mode": {
    "name": "ipython",
    "version": 3
   },
   "file_extension": ".py",
   "mimetype": "text/x-python",
   "name": "python",
   "nbconvert_exporter": "python",
   "pygments_lexer": "ipython3",
   "version": "3.12.7"
  }
 },
 "nbformat": 4,
 "nbformat_minor": 2
}
